{
  "nbformat": 4,
  "nbformat_minor": 0,
  "metadata": {
    "colab": {
      "provenance": [],
      "authorship_tag": "ABX9TyMU4VVIbbXBYdE0RfcNVE3a",
      "include_colab_link": true
    },
    "kernelspec": {
      "name": "python3",
      "display_name": "Python 3"
    },
    "language_info": {
      "name": "python"
    }
  },
  "cells": [
    {
      "cell_type": "markdown",
      "metadata": {
        "id": "view-in-github",
        "colab_type": "text"
      },
      "source": [
        "<a href=\"https://colab.research.google.com/github/ankitgupta47/DeepLearning/blob/master/rl_agent_for_trading.ipynb\" target=\"_parent\"><img src=\"https://colab.research.google.com/assets/colab-badge.svg\" alt=\"Open In Colab\"/></a>"
      ]
    },
    {
      "cell_type": "code",
      "source": [
        "!pip install tradingview-ta\n",
        "from tradingview_ta import TA_Handler, Interval, Exchange\n",
        "import numpy as np"
      ],
      "metadata": {
        "colab": {
          "base_uri": "https://localhost:8080/"
        },
        "id": "UwS9kbEPwHQ0",
        "outputId": "9cf7ff10-b553-49aa-9a8e-08712c2d4ba7"
      },
      "execution_count": 12,
      "outputs": [
        {
          "output_type": "stream",
          "name": "stdout",
          "text": [
            "Requirement already satisfied: tradingview-ta in /usr/local/lib/python3.10/dist-packages (3.3.0)\n",
            "Requirement already satisfied: requests in /usr/local/lib/python3.10/dist-packages (from tradingview-ta) (2.31.0)\n",
            "Requirement already satisfied: charset-normalizer<4,>=2 in /usr/local/lib/python3.10/dist-packages (from requests->tradingview-ta) (3.3.2)\n",
            "Requirement already satisfied: idna<4,>=2.5 in /usr/local/lib/python3.10/dist-packages (from requests->tradingview-ta) (3.6)\n",
            "Requirement already satisfied: urllib3<3,>=1.21.1 in /usr/local/lib/python3.10/dist-packages (from requests->tradingview-ta) (2.0.7)\n",
            "Requirement already satisfied: certifi>=2017.4.17 in /usr/local/lib/python3.10/dist-packages (from requests->tradingview-ta) (2024.2.2)\n"
          ]
        }
      ]
    },
    {
      "cell_type": "code",
      "source": [
        "desired_features = [\"open\", \"high\", \"low\", \"close\", \"volume\"]\n",
        "def get_company_data(symbol, screener, exchange):\n",
        "  company = TA_Handler(\n",
        "      symbol=symbol,\n",
        "    screener=screener,\n",
        "    exchange=exchange,\n",
        "    interval=Interval.INTERVAL_1_DAY)\n",
        "  feature_values = []\n",
        "  for feature in desired_features:\n",
        "    feature_values += [company.get_analysis().indicators[feature]]\n",
        "\n",
        "  return feature_values"
      ],
      "metadata": {
        "id": "4AHMEuhLw381"
      },
      "execution_count": 43,
      "outputs": []
    },
    {
      "cell_type": "code",
      "execution_count": 44,
      "metadata": {
        "colab": {
          "base_uri": "https://localhost:8080/"
        },
        "id": "fODRspultU51",
        "outputId": "72d648f1-9425-43f0-ae58-5259bc3eb830"
      },
      "outputs": [
        {
          "output_type": "stream",
          "name": "stdout",
          "text": [
            "[204.18, 205.28, 198.4463, 201.88, 85495017]\n"
          ]
        }
      ],
      "source": [
        "print(get_company_data(\"TSLA\", \"america\", \"NASDAQ\"))\n"
      ]
    },
    {
      "cell_type": "code",
      "source": [],
      "metadata": {
        "id": "ewUBbZZDwGLO"
      },
      "execution_count": null,
      "outputs": []
    }
  ]
}