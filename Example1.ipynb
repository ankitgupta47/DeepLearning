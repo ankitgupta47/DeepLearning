{
  "nbformat": 4,
  "nbformat_minor": 0,
  "metadata": {
    "colab": {
      "name": "Example1.ipynb",
      "provenance": [],
      "collapsed_sections": []
    },
    "kernelspec": {
      "name": "python3",
      "display_name": "Python 3"
    },
    "language_info": {
      "name": "python"
    },
    "accelerator": "GPU"
  },
  "cells": [
    {
      "cell_type": "code",
      "metadata": {
        "id": "-PSJsAd5MDn9",
        "colab": {
          "base_uri": "https://localhost:8080/"
        },
        "outputId": "e6317894-fad0-4ac1-c172-f38905e9fbc7"
      },
      "source": [
        "import torch\n",
        "torch.cuda.is_available()"
      ],
      "execution_count": 1,
      "outputs": [
        {
          "output_type": "execute_result",
          "data": {
            "text/plain": [
              "True"
            ]
          },
          "metadata": {
            "tags": []
          },
          "execution_count": 1
        }
      ]
    },
    {
      "cell_type": "code",
      "metadata": {
        "id": "WwoExwBsQJOJ"
      },
      "source": [
        "from torchvision import models\n",
        "dir(models)"
      ],
      "execution_count": null,
      "outputs": []
    },
    {
      "cell_type": "code",
      "metadata": {
        "id": "l7IeVABLRO5J"
      },
      "source": [
        "resnet = models.resnet101(pretrained=True)"
      ],
      "execution_count": null,
      "outputs": []
    },
    {
      "cell_type": "code",
      "metadata": {
        "id": "kQdNzn6zTLsn"
      },
      "source": [
        "from torchvision import transforms\n",
        "preprocess = transforms.Compose([transforms.Resize(256),transforms.CenterCrop(224),transforms.ToTensor(),\n",
        "                                 transforms.Normalize(mean=[0.485, 0.456, 0.406],\n",
        "                                                      std=[0.229, 0.224, 0.225])])"
      ],
      "execution_count": 5,
      "outputs": []
    },
    {
      "cell_type": "code",
      "metadata": {
        "id": "nnOHkLO0d-jG"
      },
      "source": [
        "from PIL import Image\n",
        "img = Image.open(\"/content/astronaut.jpg\")\n",
        "img.show()\n",
        "img_t = preprocess(img)\n",
        "batch_t = torch.unsqueeze(img_t,0)"
      ],
      "execution_count": 55,
      "outputs": []
    },
    {
      "cell_type": "code",
      "metadata": {
        "id": "F3bF-nQDgCiq"
      },
      "source": [
        "resnet.eval()\n",
        "out = resnet(batch_t)\n",
        "#lines = []\n",
        "with open(\"/content/imagenet_classes.txt\") as f:\n",
        "  labels = [line.strip() for line in f.readlines()]\n",
        "_, index = torch.max(out,1) "
      ],
      "execution_count": null,
      "outputs": []
    },
    {
      "cell_type": "code",
      "metadata": {
        "id": "qNtgcdEGSKtH"
      },
      "source": [
        "percentage = torch.nn.functional.softmax(out, dim=1)[0] * 100\n",
        "labels[index[0]], percentage[index[0]].item()\n",
        "_, indices = torch.sort(out, descending=True)\n",
        "[(labels[idx], percentage[idx].item()) for idx in indices[0][:5]]"
      ],
      "execution_count": null,
      "outputs": []
    }
  ]
}